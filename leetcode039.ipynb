{
  "nbformat": 4,
  "nbformat_minor": 0,
  "metadata": {
    "colab": {
      "name": "leetcode039.ipynb",
      "provenance": [],
      "authorship_tag": "ABX9TyOshsU6rRfAOcgSx6obBKMF",
      "include_colab_link": true
    },
    "kernelspec": {
      "name": "python3",
      "display_name": "Python 3"
    },
    "language_info": {
      "name": "python"
    }
  },
  "cells": [
    {
      "cell_type": "markdown",
      "metadata": {
        "id": "view-in-github",
        "colab_type": "text"
      },
      "source": [
        "<a href=\"https://colab.research.google.com/github/liudiepie/Introduction_to_Machine_Learning/blob/main/leetcode039.ipynb\" target=\"_parent\"><img src=\"https://colab.research.google.com/assets/colab-badge.svg\" alt=\"Open In Colab\"/></a>"
      ]
    },
    {
      "cell_type": "markdown",
      "metadata": {
        "id": "SUHHQgs-cgPy"
      },
      "source": [
        "# Rotate Array"
      ]
    },
    {
      "cell_type": "code",
      "metadata": {
        "id": "9nufN3C-e-AV"
      },
      "source": [
        "class Solution(object):\n",
        "  def rotate(self, nums, k):\n",
        "    \"\"\"\n",
        "    :type nums: List[int]\n",
        "    :type k: int\n",
        "    :rtype: void Do not return anything, modify nums in-place instead\n",
        "    \"\"\"\n",
        "    k = k % len(nums)\n",
        "\n",
        "    nums[:k], nums[k:] = nums[len(nums) - k: ], nums[: len(nums)-k]\n",
        "#Runtime: 52ms"
      ],
      "execution_count": null,
      "outputs": []
    }
  ]
}