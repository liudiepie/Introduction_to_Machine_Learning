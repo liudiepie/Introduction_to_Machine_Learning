{
  "nbformat": 4,
  "nbformat_minor": 0,
  "metadata": {
    "colab": {
      "name": "leetcode040.ipynb",
      "provenance": [],
      "authorship_tag": "ABX9TyMZvWnh0WIemPzNXGsrYKue",
      "include_colab_link": true
    },
    "kernelspec": {
      "name": "python3",
      "display_name": "Python 3"
    },
    "language_info": {
      "name": "python"
    }
  },
  "cells": [
    {
      "cell_type": "markdown",
      "metadata": {
        "id": "view-in-github",
        "colab_type": "text"
      },
      "source": [
        "<a href=\"https://colab.research.google.com/github/liudiepie/Introduction_to_Machine_Learning/blob/main/leetcode040.ipynb\" target=\"_parent\"><img src=\"https://colab.research.google.com/assets/colab-badge.svg\" alt=\"Open In Colab\"/></a>"
      ]
    },
    {
      "cell_type": "markdown",
      "metadata": {
        "id": "54sbU3F0oMW1"
      },
      "source": [
        "# Unique Binary Search Tree"
      ]
    },
    {
      "cell_type": "code",
      "metadata": {
        "id": "HFWUJsRZoQa_"
      },
      "source": [
        "class Solution:\n",
        "  def numTrees(self, n: int) -> int:\n",
        "    ans = {0: 1, 1: 1, 2: 2}\n",
        "    return self.helper(n, ans)\n",
        "\n",
        "  def helper(self, n, ans):\n",
        "    if n in ans:\n",
        "      return ans[n]\n",
        "    \n",
        "    res = 0\n",
        "    for i in range(n):\n",
        "      res += self.helper(i, ans)* self.helper(n-i-1, ans)\n",
        "\n",
        "    ans[n] = res\n",
        "    return res\n",
        "#Time complexity: O(N^2), Space complexity: O(N)"
      ],
      "execution_count": null,
      "outputs": []
    }
  ]
}