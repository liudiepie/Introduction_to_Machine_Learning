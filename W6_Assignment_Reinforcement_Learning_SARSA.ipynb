{
  "nbformat": 4,
  "nbformat_minor": 0,
  "metadata": {
    "colab": {
      "name": "W6_Assignment_Reinforcement_Learning_SARSA.ipynb",
      "provenance": [],
      "authorship_tag": "ABX9TyPqwVplBlNJM+BO2B5AN63L",
      "include_colab_link": true
    },
    "kernelspec": {
      "name": "python3",
      "display_name": "Python 3"
    },
    "language_info": {
      "name": "python"
    }
  },
  "cells": [
    {
      "cell_type": "markdown",
      "metadata": {
        "id": "view-in-github",
        "colab_type": "text"
      },
      "source": [
        "<a href=\"https://colab.research.google.com/github/liudiepie/Introduction_to_Machine_Learning/blob/main/W6_Assignment_Reinforcement_Learning_SARSA.ipynb\" target=\"_parent\"><img src=\"https://colab.research.google.com/assets/colab-badge.svg\" alt=\"Open In Colab\"/></a>"
      ]
    },
    {
      "cell_type": "markdown",
      "metadata": {
        "id": "Zt7kEpOdGzcb"
      },
      "source": [
        "# Deep SARSA Cart Pole"
      ]
    },
    {
      "cell_type": "markdown",
      "metadata": {
        "id": "CdwNqDG6Gq-z"
      },
      "source": [
        "Q-learning update rule:\n",
        "\\begin{equation}\n",
        "Q_\\pi (s_t, a_t) \\leftarrow (1 - \\alpha) \\cdot Q_\\pi(s_t, a_t) + \\alpha \\cdot \\big(r_t + \\gamma \\max_a Q_\\pi(s_{t+1}, a)\\big)\n",
        "\\end{equation}\n",
        "\n",
        "SARSA update rule:\n",
        "\\begin{equation}\n",
        "Q_\\pi (s_t, a_t) \\leftarrow (1 - \\alpha) \\cdot Q_\\pi(s_t, a_t) + \\alpha \\cdot \\big(r_t + \\gamma Q_\\pi(s_{t+1}, a_{t+1})\\big)\n",
        "\\end{equation}"
      ]
    },
    {
      "cell_type": "code",
      "metadata": {
        "colab": {
          "base_uri": "https://localhost:8080/"
        },
        "id": "meqO7qUmnq3L",
        "outputId": "3f77a194-8180-4976-a9d0-2e6bd8d05fd2"
      },
      "source": [
        "!pip install gym"
      ],
      "execution_count": 1,
      "outputs": [
        {
          "output_type": "stream",
          "text": [
            "Requirement already satisfied: gym in /usr/local/lib/python3.7/dist-packages (0.17.3)\n",
            "Requirement already satisfied: scipy in /usr/local/lib/python3.7/dist-packages (from gym) (1.4.1)\n",
            "Requirement already satisfied: numpy>=1.10.4 in /usr/local/lib/python3.7/dist-packages (from gym) (1.19.5)\n",
            "Requirement already satisfied: pyglet<=1.5.0,>=1.4.0 in /usr/local/lib/python3.7/dist-packages (from gym) (1.5.0)\n",
            "Requirement already satisfied: cloudpickle<1.7.0,>=1.2.0 in /usr/local/lib/python3.7/dist-packages (from gym) (1.3.0)\n",
            "Requirement already satisfied: future in /usr/local/lib/python3.7/dist-packages (from pyglet<=1.5.0,>=1.4.0->gym) (0.16.0)\n"
          ],
          "name": "stdout"
        }
      ]
    },
    {
      "cell_type": "code",
      "metadata": {
        "id": "_EwG6VRzntFs"
      },
      "source": [
        "import gym"
      ],
      "execution_count": 2,
      "outputs": []
    },
    {
      "cell_type": "code",
      "metadata": {
        "colab": {
          "base_uri": "https://localhost:8080/"
        },
        "id": "C9IRTHuvnuzO",
        "outputId": "71c9c2a6-cd71-45f1-8874-9619dad18dba"
      },
      "source": [
        "env = gym.make('FrozenLake-v0')\n",
        "env.observation_space\n",
        "env.action_space\n",
        "env.reset()\n",
        "env.render()"
      ],
      "execution_count": 3,
      "outputs": [
        {
          "output_type": "stream",
          "text": [
            "\n",
            "\u001b[41mS\u001b[0mFFF\n",
            "FHFH\n",
            "FFFH\n",
            "HFFG\n"
          ],
          "name": "stdout"
        }
      ]
    },
    {
      "cell_type": "code",
      "metadata": {
        "colab": {
          "base_uri": "https://localhost:8080/"
        },
        "id": "qQ-MRhfWnxF_",
        "outputId": "e623295b-ff94-4a0c-835c-bd42a53b91f4"
      },
      "source": [
        "# Non-slippery version\n",
        "\n",
        "from gym.envs.registration import register\n",
        "register(\n",
        "    id='FrozenLakeNotSlippery-v0',\n",
        "    entry_point='gym.envs.toy_text:FrozenLakeEnv',\n",
        "    kwargs={'map_name' : '4x4', 'is_slippery': False},\n",
        ")\n",
        "env = gym.make('FrozenLakeNotSlippery-v0')\n",
        "env.reset()"
      ],
      "execution_count": 4,
      "outputs": [
        {
          "output_type": "execute_result",
          "data": {
            "text/plain": [
              "0"
            ]
          },
          "metadata": {
            "tags": []
          },
          "execution_count": 4
        }
      ]
    },
    {
      "cell_type": "code",
      "metadata": {
        "colab": {
          "base_uri": "https://localhost:8080/"
        },
        "id": "9rAG46Npny42",
        "outputId": "4bfc4f77-9297-4d11-ca57-06381dca4ef5"
      },
      "source": [
        "env.step(0)\n",
        "env.render()"
      ],
      "execution_count": 5,
      "outputs": [
        {
          "output_type": "stream",
          "text": [
            "  (Left)\n",
            "\u001b[41mS\u001b[0mFFF\n",
            "FHFH\n",
            "FFFH\n",
            "HFFG\n"
          ],
          "name": "stdout"
        }
      ]
    },
    {
      "cell_type": "code",
      "metadata": {
        "colab": {
          "base_uri": "https://localhost:8080/"
        },
        "id": "iPCfp1Oxn0r5",
        "outputId": "b98ab0aa-c475-43f5-d15d-f96730aa7a12"
      },
      "source": [
        "env.reset()\n",
        "done = False\n",
        "\n",
        "while not done:\n",
        "    env.render()\n",
        "    action = env.action_space.sample()\n",
        "    _, _, done, _ = env.step(action)"
      ],
      "execution_count": 6,
      "outputs": [
        {
          "output_type": "stream",
          "text": [
            "\n",
            "\u001b[41mS\u001b[0mFFF\n",
            "FHFH\n",
            "FFFH\n",
            "HFFG\n",
            "  (Left)\n",
            "\u001b[41mS\u001b[0mFFF\n",
            "FHFH\n",
            "FFFH\n",
            "HFFG\n",
            "  (Left)\n",
            "\u001b[41mS\u001b[0mFFF\n",
            "FHFH\n",
            "FFFH\n",
            "HFFG\n",
            "  (Left)\n",
            "\u001b[41mS\u001b[0mFFF\n",
            "FHFH\n",
            "FFFH\n",
            "HFFG\n",
            "  (Right)\n",
            "S\u001b[41mF\u001b[0mFF\n",
            "FHFH\n",
            "FFFH\n",
            "HFFG\n"
          ],
          "name": "stdout"
        }
      ]
    },
    {
      "cell_type": "code",
      "metadata": {
        "id": "y8MPVihan2bm"
      },
      "source": [
        "import numpy as np\n",
        "\n",
        "#Initialize table with all zeros to be uniform\n",
        "Q = np.zeros([env.observation_space.n, env.action_space.n])"
      ],
      "execution_count": 7,
      "outputs": []
    },
    {
      "cell_type": "code",
      "metadata": {
        "id": "QMTwyqTtn5iI"
      },
      "source": [
        "# Learning parameters\n",
        "alpha = 0.1\n",
        "gamma = 0.95\n",
        "num_episodes = 2000\n",
        "\n",
        "# array of reward for each episode\n",
        "rs = np.zeros([num_episodes])"
      ],
      "execution_count": 8,
      "outputs": []
    },
    {
      "cell_type": "code",
      "metadata": {
        "id": "eBZy0dMyn7Ap"
      },
      "source": [
        "for i in range(num_episodes):\n",
        "    # Set total reward and time to zero, done to False\n",
        "    r_sum_i = 0\n",
        "    t = 0\n",
        "    done = False\n",
        "    \n",
        "    #Reset environment and get first new observation\n",
        "    s = env.reset()\n",
        "    \n",
        "    while not done:\n",
        "        # Choose an action by greedily (with noise) from Q table\n",
        "        a = np.argmax(Q[s,:] + np.random.randn(1, env.action_space.n)*(1./(i/10+1)))\n",
        "        \n",
        "        # Get new state and reward from environment\n",
        "        s1, r, done, _ = env.step(a)\n",
        "        \n",
        "        # Update Q-Table with new knowledge\n",
        "        Q[s,a] = (1 - alpha)*Q[s,a] + alpha*(r + gamma*np.max(Q[s1,:]))\n",
        "        \n",
        "        # Add reward to episode total\n",
        "        r_sum_i += r*gamma**t\n",
        "        \n",
        "        # Update state and time\n",
        "        s = s1\n",
        "        t += 1\n",
        "    rs[i] = r_sum_i"
      ],
      "execution_count": 9,
      "outputs": []
    },
    {
      "cell_type": "code",
      "metadata": {
        "colab": {
          "base_uri": "https://localhost:8080/",
          "height": 266
        },
        "id": "Nz5wIcC_oBxd",
        "outputId": "0b36e24f-dd79-4d51-de67-8cd82dd97703"
      },
      "source": [
        "## Plot reward vs episodes\n",
        "import matplotlib.pyplot as plt\n",
        "\n",
        "# Sliding window average\n",
        "r_cumsum = np.cumsum(np.insert(rs, 0, 0)) \n",
        "r_cumsum = (r_cumsum[50:] - r_cumsum[:-50]) / 50\n",
        "\n",
        "# Plot\n",
        "plt.plot(r_cumsum)\n",
        "plt.show()"
      ],
      "execution_count": 10,
      "outputs": [
        {
          "output_type": "display_data",
          "data": {
            "image/png": "[encoded data removed]",
            "text/plain": [
              "<Figure size 432x288 with 1 Axes>"
            ]
          },
          "metadata": {
            "tags": [],
            "needs_background": "light"
          }
        }
      ]
    },
    {
      "cell_type": "code",
      "metadata": {
        "colab": {
          "base_uri": "https://localhost:8080/"
        },
        "id": "J00o1NuwoFPZ",
        "outputId": "f8d516b6-3854-4ae2-ca93-600099c91f37"
      },
      "source": [
        "# Print number of times the goal was reached\n",
        "N = len(rs)//10\n",
        "num_Gs = np.zeros(10)\n",
        "\n",
        "for i in range(10):\n",
        "    num_Gs[i] = np.sum(rs[i*N:(i+1)*N] > 0)\n",
        "    \n",
        "print(\"Rewards: {0}\".format(num_Gs))"
      ],
      "execution_count": 11,
      "outputs": [
        {
          "output_type": "stream",
          "text": [
            "Rewards: [  8. 146. 200. 200. 200. 200. 200. 200. 200. 200.]\n"
          ],
          "name": "stdout"
        }
      ]
    },
    {
      "cell_type": "code",
      "metadata": {
        "colab": {
          "base_uri": "https://localhost:8080/"
        },
        "id": "ewxT7SxsG_wZ",
        "outputId": "2e33a4a8-6815-46e9-9600-654bd791a41b"
      },
      "source": [
        "\n",
        "!pip install gym pyvirtualdisplay > /dev/null 2>&1\n",
        "!apt-get install -y xvfb python-opengl ffmpeg > /dev/null 2>&1\n",
        "!pip install colabgymrender==1.0.2"
      ],
      "execution_count": 12,
      "outputs": [
        {
          "output_type": "stream",
          "text": [
            "Collecting colabgymrender==1.0.2\n",
            "  Downloading colabgymrender-1.0.2.tar.gz (1.8 kB)\n",
            "Requirement already satisfied: pyvirtualdisplay in /usr/local/lib/python3.7/dist-packages (from colabgymrender==1.0.2) (2.2)\n",
            "Requirement already satisfied: moviepy in /usr/local/lib/python3.7/dist-packages (from colabgymrender==1.0.2) (0.2.3.5)\n",
            "Requirement already satisfied: gym in /usr/local/lib/python3.7/dist-packages (from colabgymrender==1.0.2) (0.17.3)\n",
            "Requirement already satisfied: opencv-python in /usr/local/lib/python3.7/dist-packages (from colabgymrender==1.0.2) (4.1.2.30)\n",
            "Requirement already satisfied: pyglet<=1.5.0,>=1.4.0 in /usr/local/lib/python3.7/dist-packages (from gym->colabgymrender==1.0.2) (1.5.0)\n",
            "Requirement already satisfied: numpy>=1.10.4 in /usr/local/lib/python3.7/dist-packages (from gym->colabgymrender==1.0.2) (1.19.5)\n",
            "Requirement already satisfied: scipy in /usr/local/lib/python3.7/dist-packages (from gym->colabgymrender==1.0.2) (1.4.1)\n",
            "Requirement already satisfied: cloudpickle<1.7.0,>=1.2.0 in /usr/local/lib/python3.7/dist-packages (from gym->colabgymrender==1.0.2) (1.3.0)\n",
            "Requirement already satisfied: future in /usr/local/lib/python3.7/dist-packages (from pyglet<=1.5.0,>=1.4.0->gym->colabgymrender==1.0.2) (0.16.0)\n",
            "Requirement already satisfied: decorator<5.0,>=4.0.2 in /usr/local/lib/python3.7/dist-packages (from moviepy->colabgymrender==1.0.2) (4.4.2)\n",
            "Requirement already satisfied: imageio<3.0,>=2.1.2 in /usr/local/lib/python3.7/dist-packages (from moviepy->colabgymrender==1.0.2) (2.4.1)\n",
            "Requirement already satisfied: tqdm<5.0,>=4.11.2 in /usr/local/lib/python3.7/dist-packages (from moviepy->colabgymrender==1.0.2) (4.62.0)\n",
            "Requirement already satisfied: pillow in /usr/local/lib/python3.7/dist-packages (from imageio<3.0,>=2.1.2->moviepy->colabgymrender==1.0.2) (7.1.2)\n",
            "Requirement already satisfied: EasyProcess in /usr/local/lib/python3.7/dist-packages (from pyvirtualdisplay->colabgymrender==1.0.2) (0.3)\n",
            "Building wheels for collected packages: colabgymrender\n",
            "  Building wheel for colabgymrender (setup.py) ... \u001b[?25l\u001b[?25hdone\n",
            "  Created wheel for colabgymrender: filename=colabgymrender-1.0.2-py3-none-any.whl size=2444 sha256=e58328705a27fde541e7b59674ff3cb80c0446414ff7524294a877d451c98bdf\n",
            "  Stored in directory: /root/.cache/pip/wheels/1f/56/73/3697080da5fc7b120516aef37d1d1eb2380515ba9e272b8ccd\n",
            "Successfully built colabgymrender\n",
            "Installing collected packages: colabgymrender\n",
            "Successfully installed colabgymrender-1.0.2\n"
          ],
          "name": "stdout"
        }
      ]
    },
    {
      "cell_type": "code",
      "metadata": {
        "colab": {
          "base_uri": "https://localhost:8080/",
          "height": 722
        },
        "id": "XhD-2VmQoLLA",
        "outputId": "ce188a45-03e2-4991-cad8-572e14649d6d"
      },
      "source": [
        "import gym\n",
        "from colabgymrender.recorder import Recorder\n",
        "\n",
        "env = gym.make(\"CartPole-v0\")\n",
        "env = Recorder(env, '/.video')\n",
        "\n",
        "observation = env.reset()\n",
        "terminal = False\n",
        "while not terminal:\n",
        "  action = env.action_space.sample()\n",
        "  observation, reward, terminal, info = env.step(action)\n",
        "\n",
        "env.play()"
      ],
      "execution_count": 13,
      "outputs": [
        {
          "output_type": "stream",
          "text": [
            "Imageio: 'ffmpeg-linux64-v3.3.1' was not found on your computer; downloading it now.\n",
            "Try 1. Download from https://github.com/imageio/imageio-binaries/raw/master/ffmpeg/ffmpeg-linux64-v3.3.1 (43.8 MB)\n",
            "Downloading: 8192/45929032 bytes (0.0%)\b\b\b\b\b\b\b\b\b\b\b\b\b\b\b\b\b\b\b\b\b\b\b\b\b\b2228224/45929032 bytes (4.9%)\b\b\b\b\b\b\b\b\b\b\b\b\b\b\b\b\b\b\b\b\b\b\b\b\b\b\b\b\b5636096/45929032 bytes (12.3%)\b\b\b\b\b\b\b\b\b\b\b\b\b\b\b\b\b\b\b\b\b\b\b\b\b\b\b\b\b\b8585216/45929032 bytes (18.7%)\b\b\b\b\b\b\b\b\b\b\b\b\b\b\b\b\b\b\b\b\b\b\b\b\b\b\b\b\b\b12001280/45929032 bytes (26.1%)\b\b\b\b\b\b\b\b\b\b\b\b\b\b\b\b\b\b\b\b\b\b\b\b\b\b\b\b\b\b\b15630336/45929032 bytes (34.0%)\b\b\b\b\b\b\b\b\b\b\b\b\b\b\b\b\b\b\b\b\b\b\b\b\b\b\b\b\b\b\b19152896/45929032 bytes (41.7%)\b\b\b\b\b\b\b\b\b\b\b\b\b\b\b\b\b\b\b\b\b\b\b\b\b\b\b\b\b\b\b22700032/45929032 bytes (49.4%)\b\b\b\b\b\b\b\b\b\b\b\b\b\b\b\b\b\b\b\b\b\b\b\b\b\b\b\b\b\b\b26247168/45929032 bytes (57.1%)\b\b\b\b\b\b\b\b\b\b\b\b\b\b\b\b\b\b\b\b\b\b\b\b\b\b\b\b\b\b\b29728768/45929032 bytes (64.7%)\b\b\b\b\b\b\b\b\b\b\b\b\b\b\b\b\b\b\b\b\b\b\b\b\b\b\b\b\b\b\b33193984/45929032 bytes (72.3%)\b\b\b\b\b\b\b\b\b\b\b\b\b\b\b\b\b\b\b\b\b\b\b\b\b\b\b\b\b\b\b36724736/45929032 bytes (80.0%)\b\b\b\b\b\b\b\b\b\b\b\b\b\b\b\b\b\b\b\b\b\b\b\b\b\b\b\b\b\b\b39944192/45929032 bytes (87.0%)\b\b\b\b\b\b\b\b\b\b\b\b\b\b\b\b\b\b\b\b\b\b\b\b\b\b\b\b\b\b\b43581440/45929032 bytes (94.9%)\b\b\b\b\b\b\b\b\b\b\b\b\b\b\b\b\b\b\b\b\b\b\b\b\b\b\b\b\b\b\b45929032/45929032 bytes (100.0%)\n",
            "  Done\n",
            "File saved as /root/.imageio/ffmpeg/ffmpeg-linux64-v3.3.1.\n"
          ],
          "name": "stdout"
        },
        {
          "output_type": "stream",
          "text": [
            " 95%|█████████▍| 18/19 [00:00<00:00, 222.00it/s]\n"
          ],
          "name": "stderr"
        },
        {
          "output_type": "execute_result",
          "data": {
            "text/html": [
              "<div align=middle><video width='400' height='600'src='data:video/mp4;base64,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' controls>Sorry, seems like your browser doesn't support HTML5 audio/video</video></div>"
            ],
            "text/plain": [
              "<moviepy.video.io.html_tools.HTML2 object>"
            ]
          },
          "metadata": {
            "tags": []
          },
          "execution_count": 13
        }
      ]
    },
    {
      "cell_type": "code",
      "metadata": {
        "id": "8mnvSJHhHexN"
      },
      "source": [
        "import gym\n",
        "from colabgymrender.recorder import Recorder\n",
        "\n",
        "env = gym.make(\"CartPole-v0\")\n",
        "env.observation_space\n",
        "env.action_space\n",
        "env.reset()\n",
        "done = False\n",
        "\n",
        "while not done:\n",
        "    env.render()\n",
        "    action = env.action_space.sample()\n",
        "    _, _, done, _ = env.step(action)"
      ],
      "execution_count": 17,
      "outputs": []
    },
    {
      "cell_type": "code",
      "metadata": {
        "id": "NDBn0UdUNttJ"
      },
      "source": [
        "env.close()"
      ],
      "execution_count": 18,
      "outputs": []
    },
    {
      "cell_type": "code",
      "metadata": {
        "colab": {
          "base_uri": "https://localhost:8080/"
        },
        "id": "T406DXXmG6xl",
        "outputId": "0d84e485-5640-45b0-a01e-db1c1dbba43c"
      },
      "source": [
        "from collections import deque\n",
        "import random\n",
        "import math\n",
        "\n",
        "import gym\n",
        "import numpy as np\n",
        "import torch\n",
        "import torch.nn as nn\n",
        "import torch.nn.functional as F\n",
        "\n",
        "\n",
        "class DQN(nn.Module):\n",
        "    def __init__(self):\n",
        "        super().__init__()\n",
        "        self.fc1 = nn.Linear(4, 24)\n",
        "        self.fc2 = nn.Linear(24, 48)\n",
        "        self.fc3 = nn.Linear(48, 2)\n",
        "\n",
        "    def forward(self, x):        \n",
        "        x = self.fc1(x)\n",
        "        x = F.relu(x)\n",
        "        x = self.fc2(x)\n",
        "        x = F.relu(x)\n",
        "        x = self.fc3(x)\n",
        "        return x        \n",
        "    \n",
        "\n",
        "class DQNCartPoleSolver:\n",
        "    def __init__(self, n_episodes=1000, n_win_ticks=195, max_env_steps=None, gamma=1.0, epsilon=1.0, epsilon_min=0.01, epsilon_log_decay=0.995, alpha=0.01, alpha_decay=0.01, batch_size=64, monitor=False, quiet=False):\n",
        "        self.memory = deque(maxlen=100000)\n",
        "        self.env = gym.make('CartPole-v0')\n",
        "        if monitor: self.env = gym.wrappers.Monitor(self.env, '../data/cartpole-1', force=True)\n",
        "        self.gamma = gamma\n",
        "        self.epsilon = epsilon\n",
        "        self.epsilon_min = epsilon_min\n",
        "        self.epsilon_decay = epsilon_log_decay\n",
        "        self.alpha = alpha\n",
        "        self.alpha_decay = alpha_decay\n",
        "        self.n_episodes = n_episodes\n",
        "        self.n_win_ticks = n_win_ticks\n",
        "        self.batch_size = batch_size\n",
        "        self.quiet = quiet\n",
        "        if max_env_steps is not None: self.env._max_episode_steps = max_env_steps\n",
        "\n",
        "        # Init model\n",
        "        self.dqn = DQN()\n",
        "        self.criterion = torch.nn.MSELoss()\n",
        "        self.opt = torch.optim.Adam(self.dqn.parameters(), lr=0.01)\n",
        "\n",
        "    def get_epsilon(self, t):\n",
        "        return max(self.epsilon_min, min(self.epsilon, 1.0 - math.log10((t + 1) * self.epsilon_decay)))\n",
        "\n",
        "    def exploit_action(self, state):\n",
        "      with torch.no_grad():\n",
        "        return torch.argmax(self.dqn(state)).numpy()\n",
        "\n",
        "    def preprocess_state(self, state):\n",
        "        return torch.tensor(np.reshape(state, [1, 4]), dtype=torch.float32) \n",
        "    \n",
        "    def choose_action(self, state, epsilon):\n",
        "        if (np.random.random() <= epsilon):\n",
        "            return self.env.action_space.sample() \n",
        "        else:\n",
        "            with torch.no_grad():\n",
        "                return torch.argmax(self.dqn(state)).numpy()\n",
        "\n",
        "    def remember(self, state, action, reward, next_state, done):\n",
        "        reward = torch.tensor(reward)\n",
        "        self.memory.append((state, action, reward, next_state, done))\n",
        "    \n",
        "    def replay(self, batch_size):\n",
        "        y_batch, y_target_batch = [], []\n",
        "        minibatch = random.sample(self.memory, min(len(self.memory), batch_size))\n",
        "        for state, action, reward, next_state, done in minibatch:\n",
        "            y = self.dqn(state)\n",
        "            y2 = self.dqn(next_state)\n",
        "            action2 = self.exploit_action(next_state)\n",
        "            y_target = y.clone().detach()\n",
        "            with torch.no_grad():\n",
        "                y_target[0][action] = reward if done else reward + self.gamma * y2[0][action2]\n",
        "            y_batch.append(y[0])\n",
        "            y_target_batch.append(y_target[0])\n",
        "        \n",
        "        y_batch = torch.cat(y_batch)\n",
        "        y_target_batch = torch.cat(y_target_batch)\n",
        "        \n",
        "        self.opt.zero_grad()\n",
        "        loss = self.criterion(y_batch, y_target_batch)\n",
        "        loss.backward()\n",
        "        self.opt.step()        \n",
        "        \n",
        "        if self.epsilon > self.epsilon_min:\n",
        "            self.epsilon *= self.epsilon_decay\n",
        "\n",
        "    def run(self):\n",
        "        scores = deque(maxlen=100)\n",
        "\n",
        "        for e in range(self.n_episodes):\n",
        "            state = self.preprocess_state(self.env.reset())\n",
        "            done = False\n",
        "            i = 0\n",
        "            while not done:\n",
        "                if e % 100 == 0 and not self.quiet:\n",
        "                    self.env.render()\n",
        "                action = self.choose_action(state, self.get_epsilon(e))\n",
        "                next_state, reward, done, _ = self.env.step(action)\n",
        "                next_state = self.preprocess_state(next_state)\n",
        "                self.remember(state, action, reward, next_state, done)\n",
        "                state = next_state\n",
        "                i += 1\n",
        "\n",
        "            scores.append(i)\n",
        "            mean_score = np.mean(scores)\n",
        "            if mean_score >= self.n_win_ticks and e >= 100:\n",
        "                if not self.quiet: print('Ran {} episodes. Solved after {} trials ✔'.format(e, e - 100))\n",
        "                return e - 100\n",
        "            if e % 100 == 0 and not self.quiet:\n",
        "                print('[Episode {}] - Mean survival time over last 100 episodes was {} ticks.'.format(e, mean_score))\n",
        "\n",
        "            self.replay(self.batch_size)\n",
        "        \n",
        "        if not self.quiet: print('Did not solve after {} episodes 😞'.format(e))\n",
        "        return e\n",
        "\n",
        "if __name__ == '__main__':\n",
        "    agent = DQNCartPoleSolver()\n",
        "    agent.run()\n",
        "    agent.env.close()"
      ],
      "execution_count": 16,
      "outputs": [
        {
          "output_type": "stream",
          "text": [
            "[Episode 0] - Mean survival time over last 100 episodes was 12.0 ticks.\n",
            "[Episode 100] - Mean survival time over last 100 episodes was 19.99 ticks.\n",
            "[Episode 200] - Mean survival time over last 100 episodes was 36.14 ticks.\n",
            "[Episode 300] - Mean survival time over last 100 episodes was 38.9 ticks.\n",
            "[Episode 400] - Mean survival time over last 100 episodes was 133.84 ticks.\n",
            "[Episode 500] - Mean survival time over last 100 episodes was 144.15 ticks.\n",
            "[Episode 600] - Mean survival time over last 100 episodes was 154.36 ticks.\n",
            "[Episode 700] - Mean survival time over last 100 episodes was 113.38 ticks.\n",
            "[Episode 800] - Mean survival time over last 100 episodes was 150.17 ticks.\n",
            "[Episode 900] - Mean survival time over last 100 episodes was 180.27 ticks.\n",
            "Did not solve after 999 episodes 😞\n"
          ],
          "name": "stdout"
        }
      ]
    }
  ]
}